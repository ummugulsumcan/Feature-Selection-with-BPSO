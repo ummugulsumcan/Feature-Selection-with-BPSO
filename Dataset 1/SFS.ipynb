{
 "cells": [
  {
   "cell_type": "code",
   "execution_count": null,
   "metadata": {},
   "outputs": [],
   "source": [
    "from sklearn.datasets import load_breast_cancer\n",
    "(X_data, y_data) = load_breast_cancer(return_X_y = True)"
   ]
  },
  {
   "cell_type": "code",
   "execution_count": null,
   "metadata": {},
   "outputs": [],
   "source": [
    "#k_feature BPSO ve OBL den gelen sayısa göre belirlenecek\n",
    "classifier = LinearSVC(C=1.0, random_state = 0)\n",
    "random_states = [0,5,12,18,21,28,37,49,56,63]\n",
    "dosya=open(\"C:\\\\Users\\\\Merve\\\\Desktop\\\\Yenilenen_Sonuclar\\\\Dataset1_SFS.txt\",\"w\")\n",
    "dosya.write(\"Train Score, Test Score\\n\")\n",
    "for rand_state in random_states:    \n",
    "    X_train, X_test, y_train, y_test= train_test_split(X_data, y_data, test_size= 0.2, random_state=rand_state)\n",
    "    scaler = MinMaxScaler()\n",
    "    X_train_scaled = scaler.fit_transform(X_train)\n",
    "    X_test_scaled = scaler.transform(X_test)\n",
    "    \n",
    "    sfs1 = sfs(classifier, k_features=, forward=True, floating=False, verbose=2, scoring='accuracy', cv = 10)\n",
    "    features = sfs1.fit(X_train_scaled, y_train)\n",
    "    feat_cols = list(features.k_feature_idx_)\n",
    "    print(feat_cols)\n",
    "   \n",
    "    clf = LinearSVC(C=1).fit(X_train_scaled[:, feat_cols], y_train)  \n",
    "    print(\"Random State: \", rand_state)\n",
    "    print('Accuracy of LinearSVC on training set: {:.5f}'.format(clf.score(X_train_scaled[:, feat_cols], y_train)))\n",
    "    print('Accuracy of LinearSVC on test set: {:.5f}'.format(clf.score(X_test_scaled[:, feat_cols], y_test)))\n",
    "    dosya.write(str(clf.score(X_train_scaled[:, feat_cols], y_train)) + \",\" + str(clf.score(X_test_scaled[:, feat_cols], y_test)))\n",
    "    dosya.write(\"\\n\")\n",
    "dosya.close() "
   ]
  }
 ],
 "metadata": {
  "kernelspec": {
   "display_name": "Python 3",
   "language": "python",
   "name": "python3"
  },
  "language_info": {
   "codemirror_mode": {
    "name": "ipython",
    "version": 3
   },
   "file_extension": ".py",
   "mimetype": "text/x-python",
   "name": "python",
   "nbconvert_exporter": "python",
   "pygments_lexer": "ipython3",
   "version": "3.7.1"
  }
 },
 "nbformat": 4,
 "nbformat_minor": 2
}
